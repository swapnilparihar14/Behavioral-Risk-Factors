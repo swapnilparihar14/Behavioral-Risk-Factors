{
 "cells": [
  {
   "cell_type": "markdown",
   "metadata": {},
   "source": [
    "## Project: Behavioral Risk Factors\n",
    "### Data preprocessing and features selection for cardiovascular health"
   ]
  },
  {
   "cell_type": "markdown",
   "metadata": {},
   "source": [
    "#### Team Members\n",
    "Amit Sharma\\\n",
    "Pranav Karmalkar\\\n",
    "Swapnil Parihar"
   ]
  },
  {
   "cell_type": "code",
   "execution_count": 1,
   "metadata": {},
   "outputs": [],
   "source": [
    "import pandas as pd\n",
    "import numpy as np\n",
    "import time\n",
    "from sklearn import tree\n",
    "from sklearn.model_selection import train_test_split\n",
    "from xgboost import XGBClassifier\n",
    "from matplotlib import pyplot\n",
    "import re\n",
    "from sklearn.ensemble import RandomForestClassifier\n",
    "from sklearn import preprocessing"
   ]
  },
  {
   "cell_type": "code",
   "execution_count": 2,
   "metadata": {},
   "outputs": [],
   "source": [
    "import warnings\n",
    "warnings.filterwarnings(\"ignore\")"
   ]
  },
  {
   "cell_type": "code",
   "execution_count": 3,
   "metadata": {},
   "outputs": [],
   "source": [
    "data_2011 = pd.read_csv('2015.csv')"
   ]
  },
  {
   "cell_type": "code",
   "execution_count": 4,
   "metadata": {},
   "outputs": [
    {
     "data": {
      "text/plain": [
       "(25472, 331)"
      ]
     },
     "execution_count": 4,
     "metadata": {},
     "output_type": "execute_result"
    }
   ],
   "source": [
    "# Combine all above heart issues in target column:\n",
    "data_2011[\"heart_issues\"] = data_2011['CVDINFR4']\n",
    "data_2011[data_2011['heart_issues'] == 1].shape"
   ]
  },
  {
   "cell_type": "code",
   "execution_count": 5,
   "metadata": {},
   "outputs": [
    {
     "data": {
      "text/plain": [
       "(38633, 331)"
      ]
     },
     "execution_count": 5,
     "metadata": {},
     "output_type": "execute_result"
    }
   ],
   "source": [
    "data_2011.heart_issues = np.where(data_2011.CVDCRHD4.eq(1), data_2011.CVDCRHD4, data_2011.heart_issues)\n",
    "data_2011[data_2011['heart_issues'] == 1].shape"
   ]
  },
  {
   "cell_type": "code",
   "execution_count": 6,
   "metadata": {},
   "outputs": [
    {
     "data": {
      "text/plain": [
       "(50230, 331)"
      ]
     },
     "execution_count": 6,
     "metadata": {},
     "output_type": "execute_result"
    }
   ],
   "source": [
    "data_2011.heart_issues = np.where(data_2011.CVDSTRK3.eq(1), data_2011.CVDSTRK3, data_2011.heart_issues)\n",
    "data_2011[data_2011['heart_issues'] == 1].shape"
   ]
  },
  {
   "cell_type": "code",
   "execution_count": 7,
   "metadata": {},
   "outputs": [],
   "source": [
    "# Dropping different heart issues columns as all cominded into one column\n",
    "data_2011 = data_2011.drop(['CVDINFR4', 'CVDCRHD4', 'CVDSTRK3'], axis = 1)"
   ]
  },
  {
   "cell_type": "code",
   "execution_count": 8,
   "metadata": {},
   "outputs": [],
   "source": [
    "#data_2011['heart_issues'].replace([7, 9], np.nan, inplace=True)"
   ]
  },
  {
   "cell_type": "code",
   "execution_count": 9,
   "metadata": {},
   "outputs": [],
   "source": [
    "data_2011.dropna(subset=['heart_issues'],inplace=True)"
   ]
  },
  {
   "cell_type": "code",
   "execution_count": 10,
   "metadata": {},
   "outputs": [],
   "source": [
    "# Converting class 2 to Class 0 for non cardiovascular issues\n",
    "data_2011['heart_issues'].replace([2], 0, inplace=True)"
   ]
  },
  {
   "cell_type": "code",
   "execution_count": 12,
   "metadata": {},
   "outputs": [],
   "source": [
    "L = []\n",
    "for i in data_2011.columns:\n",
    "    if i.startswith('_'):\n",
    "        L.append(i)"
   ]
  },
  {
   "cell_type": "code",
   "execution_count": 13,
   "metadata": {},
   "outputs": [],
   "source": [
    "data_2011.drop(L, axis=1, inplace = True)"
   ]
  },
  {
   "cell_type": "code",
   "execution_count": 14,
   "metadata": {},
   "outputs": [],
   "source": [
    "test_set = data_2011.loc[data_2011.heart_issues.isin([7,9])]"
   ]
  },
  {
   "cell_type": "code",
   "execution_count": 15,
   "metadata": {},
   "outputs": [
    {
     "data": {
      "text/plain": [
       "(1638, 252)"
      ]
     },
     "execution_count": 15,
     "metadata": {},
     "output_type": "execute_result"
    }
   ],
   "source": [
    "test_set.shape"
   ]
  },
  {
   "cell_type": "code",
   "execution_count": 16,
   "metadata": {},
   "outputs": [],
   "source": [
    "# Removes all the columns with more than 90% values as Nan values\n",
    "\n",
    "s = test_set.isnull().apply(sum, axis=0) # count the number of nan in each column\n",
    "for col in test_set: \n",
    "    if s[col] >= 8788:  \n",
    "        del test_set[col]\n"
   ]
  },
  {
   "cell_type": "code",
   "execution_count": 17,
   "metadata": {},
   "outputs": [],
   "source": [
    "# Removes all the columns with zero standard variation in the test set\n",
    "\n",
    "test_set.drop(test_set.std()[(test_set.std() == 0)].index, axis=1,inplace = True)"
   ]
  },
  {
   "cell_type": "code",
   "execution_count": 18,
   "metadata": {},
   "outputs": [
    {
     "data": {
      "text/plain": [
       "(1638, 244)"
      ]
     },
     "execution_count": 18,
     "metadata": {},
     "output_type": "execute_result"
    }
   ],
   "source": [
    "test_set.shape"
   ]
  },
  {
   "cell_type": "code",
   "execution_count": 19,
   "metadata": {},
   "outputs": [],
   "source": [
    "#print(\"\\n\".join(s for s in test_set.columns if \"age\" in s.lower()))"
   ]
  },
  {
   "cell_type": "code",
   "execution_count": 20,
   "metadata": {},
   "outputs": [],
   "source": [
    "#test_set['_IMPAGE'].describe()"
   ]
  },
  {
   "cell_type": "code",
   "execution_count": 21,
   "metadata": {},
   "outputs": [],
   "source": [
    "training_set = data_2011.loc[~data_2011.heart_issues.isin([7,9])]"
   ]
  },
  {
   "cell_type": "code",
   "execution_count": 22,
   "metadata": {},
   "outputs": [
    {
     "data": {
      "text/plain": [
       "(439818, 252)"
      ]
     },
     "execution_count": 22,
     "metadata": {},
     "output_type": "execute_result"
    }
   ],
   "source": [
    "training_set.shape"
   ]
  },
  {
   "cell_type": "code",
   "execution_count": 23,
   "metadata": {},
   "outputs": [],
   "source": [
    "# Removes all the columns from the training set not in the training set\n",
    "\n",
    "difference_list = list(set(training_set.columns) - set(test_set.columns))\n",
    "training_set.drop(difference_list, axis=1, inplace = True)"
   ]
  },
  {
   "cell_type": "code",
   "execution_count": 24,
   "metadata": {},
   "outputs": [
    {
     "data": {
      "text/plain": [
       "(439818, 244)"
      ]
     },
     "execution_count": 24,
     "metadata": {},
     "output_type": "execute_result"
    }
   ],
   "source": [
    "training_set.shape"
   ]
  },
  {
   "cell_type": "code",
   "execution_count": 25,
   "metadata": {},
   "outputs": [],
   "source": [
    "# Manually determined list of columns that have pre-existing knowledge of the target column\n",
    "#training_set.drop(columns = ['QLACTLM2','POORHLTH','DECIDE','DIFFALON'], axis=1, inplace = True)"
   ]
  },
  {
   "cell_type": "code",
   "execution_count": 26,
   "metadata": {},
   "outputs": [],
   "source": [
    "# Define the target column\n",
    "training_target = training_set[['heart_issues']]\n",
    "test_target = test_set[['heart_issues']]"
   ]
  },
  {
   "cell_type": "code",
   "execution_count": 27,
   "metadata": {},
   "outputs": [],
   "source": [
    "# Remove the target column before performing correlation\n",
    "training_set.drop(columns=['heart_issues'],inplace=True)\n",
    "test_set.drop(columns=['heart_issues'],inplace=True)"
   ]
  },
  {
   "cell_type": "code",
   "execution_count": 28,
   "metadata": {},
   "outputs": [
    {
     "data": {
      "text/plain": [
       "0.0    389588\n",
       "1.0     50230\n",
       "Name: heart_issues, dtype: int64"
      ]
     },
     "execution_count": 28,
     "metadata": {},
     "output_type": "execute_result"
    }
   ],
   "source": [
    "training_target['heart_issues'].value_counts()"
   ]
  },
  {
   "cell_type": "code",
   "execution_count": 29,
   "metadata": {},
   "outputs": [],
   "source": [
    "# Remove columns of the type date\n",
    "training_set = training_set.select_dtypes(exclude=['object'])"
   ]
  },
  {
   "cell_type": "code",
   "execution_count": 30,
   "metadata": {},
   "outputs": [
    {
     "data": {
      "text/plain": [
       "(439818, 236)"
      ]
     },
     "execution_count": 30,
     "metadata": {},
     "output_type": "execute_result"
    }
   ],
   "source": [
    "training_set.shape"
   ]
  },
  {
   "cell_type": "code",
   "execution_count": 31,
   "metadata": {},
   "outputs": [
    {
     "data": {
      "text/plain": [
       "'\\nfor i in training_set.columns:\\n    for row in training_set.index:\\n        if training_set.loc[row,i] == 0:\\n            print(i)\\n            break\\n'"
      ]
     },
     "execution_count": 31,
     "metadata": {},
     "output_type": "execute_result"
    }
   ],
   "source": [
    "#training_set.head()\n",
    "'''\n",
    "for i in training_set.columns:\n",
    "    for row in training_set.index:\n",
    "        if training_set.loc[row,i] == 0:\n",
    "            print(i)\n",
    "            break\n",
    "'''"
   ]
  },
  {
   "cell_type": "code",
   "execution_count": 32,
   "metadata": {},
   "outputs": [],
   "source": [
    "# x is used just to generate the required correlation matrix \n",
    "\n",
    "x = training_set.fillna(training_set.mode().iloc[0])\n",
    "#training_set = training_set.fillna(training_set.mode().iloc[0])"
   ]
  },
  {
   "cell_type": "code",
   "execution_count": 33,
   "metadata": {},
   "outputs": [],
   "source": [
    "corr_matrix = x.corr().abs()"
   ]
  },
  {
   "cell_type": "code",
   "execution_count": 34,
   "metadata": {},
   "outputs": [],
   "source": [
    "#corr_matrix"
   ]
  },
  {
   "cell_type": "code",
   "execution_count": 35,
   "metadata": {},
   "outputs": [],
   "source": [
    "# Select upper triangle of correlation matrix\n",
    "upper = corr_matrix.where(np.triu(np.ones(corr_matrix.shape), k=1).astype(np.bool))\n",
    "\n",
    "# Find features with correlation greater than 0.95\n",
    "to_drop = [column for column in upper.columns if any(upper[column] > 0.98)]"
   ]
  },
  {
   "cell_type": "code",
   "execution_count": 36,
   "metadata": {},
   "outputs": [
    {
     "data": {
      "text/plain": [
       "2"
      ]
     },
     "execution_count": 36,
     "metadata": {},
     "output_type": "execute_result"
    }
   ],
   "source": [
    "len(to_drop)"
   ]
  },
  {
   "cell_type": "code",
   "execution_count": 37,
   "metadata": {},
   "outputs": [],
   "source": [
    "training_set.drop(to_drop, axis=1,inplace = True)"
   ]
  },
  {
   "cell_type": "code",
   "execution_count": 38,
   "metadata": {},
   "outputs": [],
   "source": [
    "#L = sorted(training_set.columns)\n",
    "#for i in L:\n",
    "#    print(i)"
   ]
  },
  {
   "cell_type": "code",
   "execution_count": 39,
   "metadata": {},
   "outputs": [
    {
     "data": {
      "text/plain": [
       "(439818, 234)"
      ]
     },
     "execution_count": 39,
     "metadata": {},
     "output_type": "execute_result"
    }
   ],
   "source": [
    "training_set.shape"
   ]
  },
  {
   "cell_type": "code",
   "execution_count": 40,
   "metadata": {},
   "outputs": [],
   "source": [
    "#training_set= training_set.dropna(axis='columns')"
   ]
  },
  {
   "cell_type": "code",
   "execution_count": 41,
   "metadata": {},
   "outputs": [],
   "source": [
    "ss_scaler = preprocessing.StandardScaler()\n",
    "X_ss = ss_scaler.fit_transform(training_set)"
   ]
  },
  {
   "cell_type": "code",
   "execution_count": 42,
   "metadata": {},
   "outputs": [],
   "source": [
    "X_ss_df = pd.DataFrame(data=X_ss[0:,0:],    # values\n",
    "             #index=wine_df_mm[1:,0],    # 1st column as index\n",
    "             columns=training_set.columns)"
   ]
  },
  {
   "cell_type": "code",
   "execution_count": 43,
   "metadata": {},
   "outputs": [
    {
     "data": {
      "text/plain": [
       "XGBClassifier(base_score=0.5, booster='gbtree', colsample_bylevel=1,\n",
       "              colsample_bynode=1, colsample_bytree=1, gamma=0, gpu_id=-1,\n",
       "              importance_type='gain', interaction_constraints='',\n",
       "              learning_rate=0.300000012, max_delta_step=0, max_depth=6,\n",
       "              min_child_weight=1, missing=nan, monotone_constraints='()',\n",
       "              n_estimators=100, n_jobs=0, num_parallel_tree=1, random_state=0,\n",
       "              reg_alpha=0, reg_lambda=1, scale_pos_weight=1, subsample=1,\n",
       "              tree_method='exact', validate_parameters=1, verbosity=None)"
      ]
     },
     "execution_count": 43,
     "metadata": {},
     "output_type": "execute_result"
    }
   ],
   "source": [
    "model2 = XGBClassifier()\n",
    "X_train, X_test, y_train, y_test = train_test_split(X_ss_df, training_target,shuffle = True, test_size=0.2, random_state=42)\n",
    "model2.fit(X_train,y_train)"
   ]
  },
  {
   "cell_type": "code",
   "execution_count": 44,
   "metadata": {},
   "outputs": [
    {
     "data": {
      "text/plain": [
       "<BarContainer object of 234 artists>"
      ]
     },
     "execution_count": 44,
     "metadata": {},
     "output_type": "execute_result"
    },
    {
     "data": {
      "image/png": "[encoded data removed]",
      "text/plain": [
       "<Figure size 720x2160 with 1 Axes>"
      ]
     },
     "metadata": {
      "needs_background": "light"
     },
     "output_type": "display_data"
    }
   ],
   "source": [
    "import matplotlib.pyplot as plt\n",
    "sorted_idx = model2.feature_importances_.argsort()\n",
    "plt.figure(figsize=(10,30))\n",
    "plt.barh(training_set.columns[sorted_idx], model2.feature_importances_[sorted_idx])"
   ]
  },
  {
   "cell_type": "code",
   "execution_count": 45,
   "metadata": {},
   "outputs": [
    {
     "name": "stdout",
     "output_type": "stream",
     "text": [
      "Detailed classification report:\n",
      "\n",
      "              precision    recall  f1-score   support\n",
      "\n",
      "         0.0       0.91      0.98      0.94     77865\n",
      "         1.0       0.60      0.21      0.31     10099\n",
      "\n",
      "    accuracy                           0.89     87964\n",
      "   macro avg       0.75      0.59      0.62     87964\n",
      "weighted avg       0.87      0.89      0.87     87964\n",
      "\n",
      "\n"
     ]
    }
   ],
   "source": [
    "from sklearn.metrics import classification_report\n",
    "print(\"Detailed classification report:\")\n",
    "print()\n",
    "y_true, y_pred = y_test, model2.predict(X_test)\n",
    "print(classification_report(y_true, y_pred))\n",
    "print()"
   ]
  },
  {
   "cell_type": "code",
   "execution_count": 46,
   "metadata": {},
   "outputs": [],
   "source": [
    "selected = training_set.columns[sorted_idx][-45:]"
   ]
  },
  {
   "cell_type": "code",
   "execution_count": 47,
   "metadata": {},
   "outputs": [
    {
     "data": {
      "text/plain": [
       "Index(['DROCDY3_', 'HADSGCO1', 'CDASSIST', 'CDSOCIAL', 'PREGNANT', 'AVEDRNK2',\n",
       "       'HLTHPLN1', 'CHCOCNCR', 'STOPSMK2', 'HIVTST6', 'MARITAL', 'QSTLANG',\n",
       "       'CDDISCUS', 'INCOME2', 'DIABAGE2', 'MEDCOST', 'PERSDOC2', 'INTERNET',\n",
       "       'INSULIN', 'DIFFALON', 'DRADVISE', 'HAVARTH3', 'ASPUNSAF', 'DECIDE',\n",
       "       'SMOKDAY2', 'BLIND', 'CHCKIDNY', 'BPHIGH4', 'CHOLCHK', 'STREHAB1',\n",
       "       'SMOKE100', 'DIABETE3', 'PNEUVAC3', 'QLACTLM2', 'CHCCOPD1', 'HAREHAB1',\n",
       "       'CVDASPRN', 'USEEQUIP', 'SEX', 'DIFFWALK', 'TOLDHI2', 'MAXVO2_',\n",
       "       'GENHLTH', 'EMPLOY1', 'BPMEDS'],\n",
       "      dtype='object')"
      ]
     },
     "execution_count": 47,
     "metadata": {},
     "output_type": "execute_result"
    }
   ],
   "source": [
    "selected"
   ]
  },
  {
   "cell_type": "code",
   "execution_count": 53,
   "metadata": {},
   "outputs": [],
   "source": [
    "# All selected columns + heart_issues, age and BMI\n",
    "selected_2015 = ['DROCDY3_', 'HADSGCO1', 'CDASSIST', 'CDSOCIAL', 'PREGNANT', 'AVEDRNK2',\n",
    "       'HLTHPLN1', 'CHCOCNCR', 'STOPSMK2', 'HIVTST6', 'MARITAL', 'QSTLANG',\n",
    "       'CDDISCUS', 'INCOME2', 'DIABAGE2', 'MEDCOST', 'PERSDOC2', 'INTERNET',\n",
    "       'INSULIN', 'DIFFALON', 'DRADVISE', 'HAVARTH3', 'ASPUNSAF', 'DECIDE',\n",
    "       'SMOKDAY2', 'BLIND', 'CHCKIDNY', 'BPHIGH4', 'CHOLCHK', 'STREHAB1',\n",
    "       'SMOKE100', 'DIABETE3', 'PNEUVAC3', 'QLACTLM2', 'CHCCOPD1', 'HAREHAB1',\n",
    "       'CVDASPRN', 'USEEQUIP', 'SEX', 'DIFFWALK', 'TOLDHI2', 'MAXVO2_',\n",
    "       'GENHLTH', 'EMPLOY1', 'BPMEDS','_AGE_G','_BMI5CAT','heart_issues']"
   ]
  },
  {
   "cell_type": "code",
   "execution_count": 50,
   "metadata": {},
   "outputs": [],
   "source": [
    "data_2011.drop(data_2011.columns.difference(selected_2015), 1, inplace=True)"
   ]
  },
  {
   "cell_type": "code",
   "execution_count": 59,
   "metadata": {},
   "outputs": [
    {
     "data": {
      "text/html": [
       "<div>\n",
       "<style scoped>\n",
       "    .dataframe tbody tr th:only-of-type {\n",
       "        vertical-align: middle;\n",
       "    }\n",
       "\n",
       "    .dataframe tbody tr th {\n",
       "        vertical-align: top;\n",
       "    }\n",
       "\n",
       "    .dataframe thead th {\n",
       "        text-align: right;\n",
       "    }\n",
       "</style>\n",
       "<table border=\"1\" class=\"dataframe\">\n",
       "  <thead>\n",
       "    <tr style=\"text-align: right;\">\n",
       "      <th></th>\n",
       "      <th>GENHLTH</th>\n",
       "      <th>HLTHPLN1</th>\n",
       "      <th>PERSDOC2</th>\n",
       "      <th>MEDCOST</th>\n",
       "      <th>BPHIGH4</th>\n",
       "      <th>BPMEDS</th>\n",
       "      <th>CHOLCHK</th>\n",
       "      <th>TOLDHI2</th>\n",
       "      <th>CHCSCNCR</th>\n",
       "      <th>CHCOCNCR</th>\n",
       "      <th>...</th>\n",
       "      <th>CVDASPRN</th>\n",
       "      <th>ASPUNSAF</th>\n",
       "      <th>HADSGCO1</th>\n",
       "      <th>ADMOVE</th>\n",
       "      <th>QSTLANG</th>\n",
       "      <th>DROCDY3_</th>\n",
       "      <th>MAXVO2_</th>\n",
       "      <th>heart_issues</th>\n",
       "      <th>_AGE_G</th>\n",
       "      <th>_BMI5CAT</th>\n",
       "    </tr>\n",
       "  </thead>\n",
       "  <tbody>\n",
       "    <tr>\n",
       "      <td>0</td>\n",
       "      <td>5.0</td>\n",
       "      <td>1.0</td>\n",
       "      <td>1.0</td>\n",
       "      <td>2.0</td>\n",
       "      <td>1.0</td>\n",
       "      <td>1.0</td>\n",
       "      <td>1.0</td>\n",
       "      <td>1.0</td>\n",
       "      <td>2.0</td>\n",
       "      <td>2.0</td>\n",
       "      <td>...</td>\n",
       "      <td>NaN</td>\n",
       "      <td>NaN</td>\n",
       "      <td>NaN</td>\n",
       "      <td>NaN</td>\n",
       "      <td>1.0</td>\n",
       "      <td>5.397605e-79</td>\n",
       "      <td>2469.0</td>\n",
       "      <td>0.0</td>\n",
       "      <td>5.0</td>\n",
       "      <td>4.0</td>\n",
       "    </tr>\n",
       "    <tr>\n",
       "      <td>1</td>\n",
       "      <td>3.0</td>\n",
       "      <td>2.0</td>\n",
       "      <td>1.0</td>\n",
       "      <td>1.0</td>\n",
       "      <td>3.0</td>\n",
       "      <td>NaN</td>\n",
       "      <td>4.0</td>\n",
       "      <td>2.0</td>\n",
       "      <td>2.0</td>\n",
       "      <td>2.0</td>\n",
       "      <td>...</td>\n",
       "      <td>NaN</td>\n",
       "      <td>NaN</td>\n",
       "      <td>NaN</td>\n",
       "      <td>NaN</td>\n",
       "      <td>1.0</td>\n",
       "      <td>5.397605e-79</td>\n",
       "      <td>2876.0</td>\n",
       "      <td>0.0</td>\n",
       "      <td>4.0</td>\n",
       "      <td>3.0</td>\n",
       "    </tr>\n",
       "    <tr>\n",
       "      <td>2</td>\n",
       "      <td>4.0</td>\n",
       "      <td>1.0</td>\n",
       "      <td>2.0</td>\n",
       "      <td>2.0</td>\n",
       "      <td>3.0</td>\n",
       "      <td>NaN</td>\n",
       "      <td>1.0</td>\n",
       "      <td>1.0</td>\n",
       "      <td>2.0</td>\n",
       "      <td>1.0</td>\n",
       "      <td>...</td>\n",
       "      <td>NaN</td>\n",
       "      <td>NaN</td>\n",
       "      <td>NaN</td>\n",
       "      <td>NaN</td>\n",
       "      <td>1.0</td>\n",
       "      <td>9.000000e+02</td>\n",
       "      <td>2173.0</td>\n",
       "      <td>1.0</td>\n",
       "      <td>6.0</td>\n",
       "      <td>2.0</td>\n",
       "    </tr>\n",
       "    <tr>\n",
       "      <td>3</td>\n",
       "      <td>5.0</td>\n",
       "      <td>1.0</td>\n",
       "      <td>2.0</td>\n",
       "      <td>1.0</td>\n",
       "      <td>1.0</td>\n",
       "      <td>1.0</td>\n",
       "      <td>1.0</td>\n",
       "      <td>1.0</td>\n",
       "      <td>2.0</td>\n",
       "      <td>1.0</td>\n",
       "      <td>...</td>\n",
       "      <td>NaN</td>\n",
       "      <td>NaN</td>\n",
       "      <td>2.0</td>\n",
       "      <td>NaN</td>\n",
       "      <td>1.0</td>\n",
       "      <td>5.397605e-79</td>\n",
       "      <td>2469.0</td>\n",
       "      <td>0.0</td>\n",
       "      <td>5.0</td>\n",
       "      <td>3.0</td>\n",
       "    </tr>\n",
       "    <tr>\n",
       "      <td>4</td>\n",
       "      <td>5.0</td>\n",
       "      <td>1.0</td>\n",
       "      <td>1.0</td>\n",
       "      <td>2.0</td>\n",
       "      <td>3.0</td>\n",
       "      <td>NaN</td>\n",
       "      <td>1.0</td>\n",
       "      <td>2.0</td>\n",
       "      <td>2.0</td>\n",
       "      <td>2.0</td>\n",
       "      <td>...</td>\n",
       "      <td>NaN</td>\n",
       "      <td>NaN</td>\n",
       "      <td>2.0</td>\n",
       "      <td>NaN</td>\n",
       "      <td>1.0</td>\n",
       "      <td>5.397605e-79</td>\n",
       "      <td>2543.0</td>\n",
       "      <td>0.0</td>\n",
       "      <td>5.0</td>\n",
       "      <td>2.0</td>\n",
       "    </tr>\n",
       "    <tr>\n",
       "      <td>...</td>\n",
       "      <td>...</td>\n",
       "      <td>...</td>\n",
       "      <td>...</td>\n",
       "      <td>...</td>\n",
       "      <td>...</td>\n",
       "      <td>...</td>\n",
       "      <td>...</td>\n",
       "      <td>...</td>\n",
       "      <td>...</td>\n",
       "      <td>...</td>\n",
       "      <td>...</td>\n",
       "      <td>...</td>\n",
       "      <td>...</td>\n",
       "      <td>...</td>\n",
       "      <td>...</td>\n",
       "      <td>...</td>\n",
       "      <td>...</td>\n",
       "      <td>...</td>\n",
       "      <td>...</td>\n",
       "      <td>...</td>\n",
       "      <td>...</td>\n",
       "    </tr>\n",
       "    <tr>\n",
       "      <td>441451</td>\n",
       "      <td>4.0</td>\n",
       "      <td>1.0</td>\n",
       "      <td>1.0</td>\n",
       "      <td>2.0</td>\n",
       "      <td>1.0</td>\n",
       "      <td>1.0</td>\n",
       "      <td>1.0</td>\n",
       "      <td>1.0</td>\n",
       "      <td>2.0</td>\n",
       "      <td>2.0</td>\n",
       "      <td>...</td>\n",
       "      <td>1.0</td>\n",
       "      <td>NaN</td>\n",
       "      <td>NaN</td>\n",
       "      <td>NaN</td>\n",
       "      <td>2.0</td>\n",
       "      <td>5.397605e-79</td>\n",
       "      <td>2136.0</td>\n",
       "      <td>0.0</td>\n",
       "      <td>6.0</td>\n",
       "      <td>1.0</td>\n",
       "    </tr>\n",
       "    <tr>\n",
       "      <td>441452</td>\n",
       "      <td>1.0</td>\n",
       "      <td>1.0</td>\n",
       "      <td>1.0</td>\n",
       "      <td>2.0</td>\n",
       "      <td>3.0</td>\n",
       "      <td>NaN</td>\n",
       "      <td>1.0</td>\n",
       "      <td>2.0</td>\n",
       "      <td>2.0</td>\n",
       "      <td>2.0</td>\n",
       "      <td>...</td>\n",
       "      <td>2.0</td>\n",
       "      <td>3.0</td>\n",
       "      <td>NaN</td>\n",
       "      <td>NaN</td>\n",
       "      <td>2.0</td>\n",
       "      <td>5.397605e-79</td>\n",
       "      <td>3727.0</td>\n",
       "      <td>0.0</td>\n",
       "      <td>2.0</td>\n",
       "      <td>3.0</td>\n",
       "    </tr>\n",
       "    <tr>\n",
       "      <td>441453</td>\n",
       "      <td>4.0</td>\n",
       "      <td>1.0</td>\n",
       "      <td>2.0</td>\n",
       "      <td>2.0</td>\n",
       "      <td>1.0</td>\n",
       "      <td>1.0</td>\n",
       "      <td>1.0</td>\n",
       "      <td>1.0</td>\n",
       "      <td>2.0</td>\n",
       "      <td>1.0</td>\n",
       "      <td>...</td>\n",
       "      <td>NaN</td>\n",
       "      <td>NaN</td>\n",
       "      <td>NaN</td>\n",
       "      <td>NaN</td>\n",
       "      <td>2.0</td>\n",
       "      <td>7.000000e+00</td>\n",
       "      <td>2210.0</td>\n",
       "      <td>0.0</td>\n",
       "      <td>6.0</td>\n",
       "      <td>4.0</td>\n",
       "    </tr>\n",
       "    <tr>\n",
       "      <td>441454</td>\n",
       "      <td>3.0</td>\n",
       "      <td>1.0</td>\n",
       "      <td>1.0</td>\n",
       "      <td>2.0</td>\n",
       "      <td>1.0</td>\n",
       "      <td>1.0</td>\n",
       "      <td>1.0</td>\n",
       "      <td>2.0</td>\n",
       "      <td>2.0</td>\n",
       "      <td>2.0</td>\n",
       "      <td>...</td>\n",
       "      <td>1.0</td>\n",
       "      <td>NaN</td>\n",
       "      <td>NaN</td>\n",
       "      <td>NaN</td>\n",
       "      <td>2.0</td>\n",
       "      <td>5.397605e-79</td>\n",
       "      <td>3140.0</td>\n",
       "      <td>0.0</td>\n",
       "      <td>4.0</td>\n",
       "      <td>2.0</td>\n",
       "    </tr>\n",
       "    <tr>\n",
       "      <td>441455</td>\n",
       "      <td>2.0</td>\n",
       "      <td>1.0</td>\n",
       "      <td>1.0</td>\n",
       "      <td>2.0</td>\n",
       "      <td>1.0</td>\n",
       "      <td>1.0</td>\n",
       "      <td>1.0</td>\n",
       "      <td>1.0</td>\n",
       "      <td>1.0</td>\n",
       "      <td>2.0</td>\n",
       "      <td>...</td>\n",
       "      <td>1.0</td>\n",
       "      <td>NaN</td>\n",
       "      <td>NaN</td>\n",
       "      <td>NaN</td>\n",
       "      <td>2.0</td>\n",
       "      <td>5.397605e-79</td>\n",
       "      <td>2469.0</td>\n",
       "      <td>1.0</td>\n",
       "      <td>5.0</td>\n",
       "      <td>2.0</td>\n",
       "    </tr>\n",
       "  </tbody>\n",
       "</table>\n",
       "<p>441456 rows × 53 columns</p>\n",
       "</div>"
      ],
      "text/plain": [
       "        GENHLTH  HLTHPLN1  PERSDOC2  MEDCOST  BPHIGH4  BPMEDS  CHOLCHK  \\\n",
       "0           5.0       1.0       1.0      2.0      1.0     1.0      1.0   \n",
       "1           3.0       2.0       1.0      1.0      3.0     NaN      4.0   \n",
       "2           4.0       1.0       2.0      2.0      3.0     NaN      1.0   \n",
       "3           5.0       1.0       2.0      1.0      1.0     1.0      1.0   \n",
       "4           5.0       1.0       1.0      2.0      3.0     NaN      1.0   \n",
       "...         ...       ...       ...      ...      ...     ...      ...   \n",
       "441451      4.0       1.0       1.0      2.0      1.0     1.0      1.0   \n",
       "441452      1.0       1.0       1.0      2.0      3.0     NaN      1.0   \n",
       "441453      4.0       1.0       2.0      2.0      1.0     1.0      1.0   \n",
       "441454      3.0       1.0       1.0      2.0      1.0     1.0      1.0   \n",
       "441455      2.0       1.0       1.0      2.0      1.0     1.0      1.0   \n",
       "\n",
       "        TOLDHI2  CHCSCNCR  CHCOCNCR  ...  CVDASPRN  ASPUNSAF  HADSGCO1  \\\n",
       "0           1.0       2.0       2.0  ...       NaN       NaN       NaN   \n",
       "1           2.0       2.0       2.0  ...       NaN       NaN       NaN   \n",
       "2           1.0       2.0       1.0  ...       NaN       NaN       NaN   \n",
       "3           1.0       2.0       1.0  ...       NaN       NaN       2.0   \n",
       "4           2.0       2.0       2.0  ...       NaN       NaN       2.0   \n",
       "...         ...       ...       ...  ...       ...       ...       ...   \n",
       "441451      1.0       2.0       2.0  ...       1.0       NaN       NaN   \n",
       "441452      2.0       2.0       2.0  ...       2.0       3.0       NaN   \n",
       "441453      1.0       2.0       1.0  ...       NaN       NaN       NaN   \n",
       "441454      2.0       2.0       2.0  ...       1.0       NaN       NaN   \n",
       "441455      1.0       1.0       2.0  ...       1.0       NaN       NaN   \n",
       "\n",
       "        ADMOVE  QSTLANG      DROCDY3_  MAXVO2_  heart_issues  _AGE_G  _BMI5CAT  \n",
       "0          NaN      1.0  5.397605e-79   2469.0           0.0     5.0       4.0  \n",
       "1          NaN      1.0  5.397605e-79   2876.0           0.0     4.0       3.0  \n",
       "2          NaN      1.0  9.000000e+02   2173.0           1.0     6.0       2.0  \n",
       "3          NaN      1.0  5.397605e-79   2469.0           0.0     5.0       3.0  \n",
       "4          NaN      1.0  5.397605e-79   2543.0           0.0     5.0       2.0  \n",
       "...        ...      ...           ...      ...           ...     ...       ...  \n",
       "441451     NaN      2.0  5.397605e-79   2136.0           0.0     6.0       1.0  \n",
       "441452     NaN      2.0  5.397605e-79   3727.0           0.0     2.0       3.0  \n",
       "441453     NaN      2.0  7.000000e+00   2210.0           0.0     6.0       4.0  \n",
       "441454     NaN      2.0  5.397605e-79   3140.0           0.0     4.0       2.0  \n",
       "441455     NaN      2.0  5.397605e-79   2469.0           1.0     5.0       2.0  \n",
       "\n",
       "[441456 rows x 53 columns]"
      ]
     },
     "execution_count": 59,
     "metadata": {},
     "output_type": "execute_result"
    }
   ],
   "source": [
    "data_2011"
   ]
  },
  {
   "cell_type": "code",
   "execution_count": 60,
   "metadata": {},
   "outputs": [],
   "source": [
    "# Converting results to CSV \n",
    "#compression_opts = dict(method='zip',archive_name='CARDIOVASCULAR_2015.csv')  \n",
    "data_2011.to_csv('CARDIOVASCULAR_2015.csv', index=False) "
   ]
  },
  {
   "cell_type": "code",
   "execution_count": null,
   "metadata": {},
   "outputs": [],
   "source": []
  }
 ],
 "metadata": {
  "kernelspec": {
   "display_name": "Python 3",
   "language": "python",
   "name": "python3"
  },
  "language_info": {
   "codemirror_mode": {
    "name": "ipython",
    "version": 3
   },
   "file_extension": ".py",
   "mimetype": "text/x-python",
   "name": "python",
   "nbconvert_exporter": "python",
   "pygments_lexer": "ipython3",
   "version": "3.7.4"
  }
 },
 "nbformat": 4,
 "nbformat_minor": 4
}
